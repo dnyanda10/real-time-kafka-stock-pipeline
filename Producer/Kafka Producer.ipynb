{
 "cells": [
  {
   "cell_type": "code",
   "execution_count": 1,
   "id": "7a02d014-0ae2-4202-9286-d668f6997047",
   "metadata": {},
   "outputs": [
    {
     "name": "stdout",
     "output_type": "stream",
     "text": [
      "Requirement already satisfied: kafka-python in c:\\users\\dnyan\\appdata\\local\\programs\\python\\python313\\lib\\site-packages (2.2.15)\n",
      "Note: you may need to restart the kernel to use updated packages.\n"
     ]
    }
   ],
   "source": [
    "pip install kafka-python"
   ]
  },
  {
   "cell_type": "code",
   "execution_count": 2,
   "id": "22b5184a-b6bb-4cee-ad5c-6a812f0f639d",
   "metadata": {},
   "outputs": [],
   "source": [
    "import pandas as pd\n",
    "from kafka import KafkaProducer\n",
    "from time import sleep\n",
    "from json import dumps\n",
    "import json\n",
    "import logging\n",
    "import os\n",
    "import time\n"
   ]
  },
  {
   "cell_type": "code",
   "execution_count": 3,
   "id": "a8d1ed36-b47f-4fcb-81c7-ceb13385cdbd",
   "metadata": {},
   "outputs": [],
   "source": [
    "os.makedirs('logs', exist_ok=True)"
   ]
  },
  {
   "cell_type": "code",
   "execution_count": 4,
   "id": "2d88a056-3a91-46e5-aa0c-12a9f197e45b",
   "metadata": {},
   "outputs": [],
   "source": [
    "for handler in logging.root.handlers[:]:\n",
    "    logging.root.removeHandler(handler)"
   ]
  },
  {
   "cell_type": "code",
   "execution_count": 5,
   "id": "f6a526cc-5d9b-4c39-9d69-5ce4112fbf37",
   "metadata": {},
   "outputs": [],
   "source": [
    "logging.basicConfig(\n",
    "    filename='logs/producer.log',\n",
    "    level=logging.INFO,\n",
    "    format='%(asctime)s - %(levelname)s - %(message)s'\n",
    ")"
   ]
  },
  {
   "cell_type": "code",
   "execution_count": 6,
   "id": "f3239283-7cfe-49af-86ee-2a3f9a4716f0",
   "metadata": {},
   "outputs": [],
   "source": [
    "from kafka import KafkaProducer\n",
    "from json import dumps\n",
    "\n",
    "producer = KafkaProducer(\n",
    "    bootstrap_servers=['localhost:9092'],  # Updated for local Kafka\n",
    "    value_serializer=lambda x: dumps(x).encode('utf-8')\n",
    ")\n"
   ]
  },
  {
   "cell_type": "code",
   "execution_count": 9,
   "id": "c9fe4e36-fc1b-4e48-bb20-55210dfa3976",
   "metadata": {},
   "outputs": [
    {
     "data": {
      "text/plain": [
       "<kafka.producer.future.FutureRecordMetadata at 0x1c09d5fae40>"
      ]
     },
     "execution_count": 9,
     "metadata": {},
     "output_type": "execute_result"
    }
   ],
   "source": [
    "producer.send('demo_testing', value={'Dnyanda':'Mayur'})"
   ]
  },
  {
   "cell_type": "code",
   "execution_count": 10,
   "id": "242d5cb7-13ae-4d93-8af5-3bbf85b368de",
   "metadata": {},
   "outputs": [
    {
     "data": {
      "text/plain": [
       "<kafka.producer.future.FutureRecordMetadata at 0x1c0b83982d0>"
      ]
     },
     "execution_count": 10,
     "metadata": {},
     "output_type": "execute_result"
    }
   ],
   "source": [
    "producer.send('demo_testing', value={'I am a Data Engineer':'I want around 8 LPA and above job in a good company'})"
   ]
  },
  {
   "cell_type": "code",
   "execution_count": 7,
   "id": "d2dace50-daa7-4c36-bf3f-e02a1370e59a",
   "metadata": {},
   "outputs": [],
   "source": [
    "df = pd.read_csv(r\"D:\\DE Project Data\\Kafka real time project\\Data\\indexProcessed.csv\")"
   ]
  },
  {
   "cell_type": "code",
   "execution_count": 8,
   "id": "c290370c-2585-48fa-ae22-e033c2f0f088",
   "metadata": {},
   "outputs": [
    {
     "data": {
      "text/html": [
       "<div>\n",
       "<style scoped>\n",
       "    .dataframe tbody tr th:only-of-type {\n",
       "        vertical-align: middle;\n",
       "    }\n",
       "\n",
       "    .dataframe tbody tr th {\n",
       "        vertical-align: top;\n",
       "    }\n",
       "\n",
       "    .dataframe thead th {\n",
       "        text-align: right;\n",
       "    }\n",
       "</style>\n",
       "<table border=\"1\" class=\"dataframe\">\n",
       "  <thead>\n",
       "    <tr style=\"text-align: right;\">\n",
       "      <th></th>\n",
       "      <th>Index</th>\n",
       "      <th>Date</th>\n",
       "      <th>Open</th>\n",
       "      <th>High</th>\n",
       "      <th>Low</th>\n",
       "      <th>Close</th>\n",
       "      <th>Adj Close</th>\n",
       "      <th>Volume</th>\n",
       "      <th>CloseUSD</th>\n",
       "    </tr>\n",
       "  </thead>\n",
       "  <tbody>\n",
       "    <tr>\n",
       "      <th>0</th>\n",
       "      <td>HSI</td>\n",
       "      <td>1986-12-31</td>\n",
       "      <td>2568.300049</td>\n",
       "      <td>2568.300049</td>\n",
       "      <td>2568.300049</td>\n",
       "      <td>2568.300049</td>\n",
       "      <td>2568.300049</td>\n",
       "      <td>0.0</td>\n",
       "      <td>333.879006</td>\n",
       "    </tr>\n",
       "    <tr>\n",
       "      <th>1</th>\n",
       "      <td>HSI</td>\n",
       "      <td>1987-01-02</td>\n",
       "      <td>2540.100098</td>\n",
       "      <td>2540.100098</td>\n",
       "      <td>2540.100098</td>\n",
       "      <td>2540.100098</td>\n",
       "      <td>2540.100098</td>\n",
       "      <td>0.0</td>\n",
       "      <td>330.213013</td>\n",
       "    </tr>\n",
       "    <tr>\n",
       "      <th>2</th>\n",
       "      <td>HSI</td>\n",
       "      <td>1987-01-05</td>\n",
       "      <td>2552.399902</td>\n",
       "      <td>2552.399902</td>\n",
       "      <td>2552.399902</td>\n",
       "      <td>2552.399902</td>\n",
       "      <td>2552.399902</td>\n",
       "      <td>0.0</td>\n",
       "      <td>331.811987</td>\n",
       "    </tr>\n",
       "    <tr>\n",
       "      <th>3</th>\n",
       "      <td>HSI</td>\n",
       "      <td>1987-01-06</td>\n",
       "      <td>2583.899902</td>\n",
       "      <td>2583.899902</td>\n",
       "      <td>2583.899902</td>\n",
       "      <td>2583.899902</td>\n",
       "      <td>2583.899902</td>\n",
       "      <td>0.0</td>\n",
       "      <td>335.906987</td>\n",
       "    </tr>\n",
       "    <tr>\n",
       "      <th>4</th>\n",
       "      <td>HSI</td>\n",
       "      <td>1987-01-07</td>\n",
       "      <td>2607.100098</td>\n",
       "      <td>2607.100098</td>\n",
       "      <td>2607.100098</td>\n",
       "      <td>2607.100098</td>\n",
       "      <td>2607.100098</td>\n",
       "      <td>0.0</td>\n",
       "      <td>338.923013</td>\n",
       "    </tr>\n",
       "  </tbody>\n",
       "</table>\n",
       "</div>"
      ],
      "text/plain": [
       "  Index        Date         Open         High          Low        Close  \\\n",
       "0   HSI  1986-12-31  2568.300049  2568.300049  2568.300049  2568.300049   \n",
       "1   HSI  1987-01-02  2540.100098  2540.100098  2540.100098  2540.100098   \n",
       "2   HSI  1987-01-05  2552.399902  2552.399902  2552.399902  2552.399902   \n",
       "3   HSI  1987-01-06  2583.899902  2583.899902  2583.899902  2583.899902   \n",
       "4   HSI  1987-01-07  2607.100098  2607.100098  2607.100098  2607.100098   \n",
       "\n",
       "     Adj Close  Volume    CloseUSD  \n",
       "0  2568.300049     0.0  333.879006  \n",
       "1  2540.100098     0.0  330.213013  \n",
       "2  2552.399902     0.0  331.811987  \n",
       "3  2583.899902     0.0  335.906987  \n",
       "4  2607.100098     0.0  338.923013  "
      ]
     },
     "execution_count": 8,
     "metadata": {},
     "output_type": "execute_result"
    }
   ],
   "source": [
    "df.head()\n"
   ]
  },
  {
   "cell_type": "code",
   "execution_count": 9,
   "id": "0dc30f0d-619f-4051-a2db-c5e032c580bb",
   "metadata": {},
   "outputs": [
    {
     "name": "stdout",
     "output_type": "stream",
     "text": [
      "✅ Sent: {'Index': 'TWII', 'Date': '2014-03-19', 'Open': 8745.019531, 'High': 8749.799805, 'Low': 8682.75, 'Close': 8689.459961, 'Adj Close': 8689.427734, 'Volume': 2362300.0, 'CloseUSD': 347.57839844}\n",
      "✅ Sent: {'Index': 'N100', 'Date': '2005-10-18', 'Open': 762.130005, 'High': 762.98999, 'Low': 756.640015, 'Close': 757.77002, 'Adj Close': 757.77002, 'Volume': 0.0, 'CloseUSD': 924.4794244}\n",
      "✅ Sent: {'Index': 'GSPTSE', 'Date': '2020-08-12', 'Open': 16645.59961, 'High': 16681.40039, 'Low': 16565.0, 'Close': 16575.30078, 'Adj Close': 16575.30078, 'Volume': 22135690000.0, 'CloseUSD': 13757.4996474}\n",
      "✅ Sent: {'Index': 'TWII', 'Date': '2007-08-03', 'Open': 9104.339844, 'High': 9134.599609, 'Low': 9025.700195, 'Close': 9057.820313, 'Adj Close': 9057.786133, 'Volume': 5842800.0, 'CloseUSD': 362.31281252}\n",
      "✅ Sent: {'Index': 'NSEI', 'Date': '2019-01-07', 'Open': 10804.84961, 'High': 10835.9502, 'Low': 10750.15039, 'Close': 10771.79981, 'Adj Close': 10771.79981, 'Volume': 269400.0, 'CloseUSD': 107.7179981}\n",
      "✅ Sent: {'Index': 'IXIC', 'Date': '2016-11-16', 'Open': 5253.740234, 'High': 5299.629883, 'Low': 5251.879883, 'Close': 5294.580078, 'Adj Close': 5294.580078, 'Volume': 2057140000.0, 'CloseUSD': 5294.580078}\n",
      "✅ Sent: {'Index': 'NYA', 'Date': '1990-08-13', 'Open': 1962.800049, 'High': 1962.800049, 'Low': 1962.800049, 'Close': 1962.800049, 'Adj Close': 1962.800049, 'Volume': 0.0, 'CloseUSD': 1962.800049}\n",
      "✅ Sent: {'Index': 'IXIC', 'Date': '1971-02-24', 'Open': 100.639999, 'High': 100.639999, 'Low': 100.639999, 'Close': 100.639999, 'Adj Close': 100.639999, 'Volume': 0.0, 'CloseUSD': 100.639999}\n",
      "✅ Sent: {'Index': 'GDAXI', 'Date': '2006-04-19', 'Open': 5935.410156, 'High': 5996.600098, 'Low': 5935.410156, 'Close': 5993.759766, 'Adj Close': 5993.759766, 'Volume': 115498800.0, 'CloseUSD': 7312.38691452}\n",
      "✅ Sent: {'Index': 'GSPTSE', 'Date': '2017-05-09', 'Open': 15644.09961, 'High': 15672.2002, 'Low': 15516.7002, 'Close': 15569.2002, 'Adj Close': 15569.2002, 'Volume': 20949910000.0, 'CloseUSD': 12922.436166}\n",
      "✅ Sent: {'Index': 'NSEI', 'Date': '2008-04-10', 'Open': 4747.549805, 'High': 4799.5, 'Low': 4720.899902, 'Close': 4733.0, 'Adj Close': 4733.0, 'Volume': 0.0, 'CloseUSD': 47.33}\n",
      "✅ Sent: {'Index': 'GSPTSE', 'Date': '1987-03-26', 'Open': 3830.100098, 'High': 3832.399902, 'Low': 3814.100098, 'Close': 3814.100098, 'Adj Close': 3804.414551, 'Volume': 34200000.0, 'CloseUSD': 3165.70308134}\n",
      "✅ Sent: {'Index': 'IXIC', 'Date': '2013-01-11', 'Open': 3122.120117, 'High': 3126.590088, 'Low': 3114.100098, 'Close': 3125.629883, 'Adj Close': 3125.629883, 'Volume': 1772600000.0, 'CloseUSD': 3125.629883}\n",
      "✅ Sent: {'Index': 'N225', 'Date': '1982-02-01', 'Open': 7909.790039, 'High': 7909.790039, 'Low': 7909.790039, 'Close': 7909.790039, 'Adj Close': 7909.790039, 'Volume': 0.0, 'CloseUSD': 79.09790039}\n",
      "✅ Sent: {'Index': 'NYA', 'Date': '1988-05-18', 'Open': 1506.859985, 'High': 1506.859985, 'Low': 1506.859985, 'Close': 1506.859985, 'Adj Close': 1506.859985, 'Volume': 0.0, 'CloseUSD': 1506.859985}\n",
      "✅ Sent: {'Index': 'TWII', 'Date': '2020-04-07', 'Open': 9928.160156, 'High': 10039.15039, 'Low': 9928.160156, 'Close': 9996.389648, 'Adj Close': 9996.389648, 'Volume': 3205000.0, 'CloseUSD': 399.85558592}\n",
      "✅ Sent: {'Index': 'N225', 'Date': '1967-11-28', 'Open': 1275.77002, 'High': 1275.77002, 'Low': 1275.77002, 'Close': 1275.77002, 'Adj Close': 1275.77002, 'Volume': 0.0, 'CloseUSD': 12.7577002}\n",
      "✅ Sent: {'Index': 'GDAXI', 'Date': '1988-10-12', 'Open': 1263.0, 'High': 1263.0, 'Low': 1263.0, 'Close': 1263.0, 'Adj Close': 1263.0, 'Volume': 0.0, 'CloseUSD': 1540.86}\n",
      "✅ Sent: {'Index': 'GDAXI', 'Date': '1996-12-09', 'Open': 2851.719971, 'High': 2876.629883, 'Low': 2850.77002, 'Close': 2870.300049, 'Adj Close': 2870.300049, 'Volume': 0.0, 'CloseUSD': 3501.76605978}\n",
      "✅ Sent: {'Index': 'N100', 'Date': '2016-10-06', 'Open': 889.789978, 'High': 891.409973, 'Low': 883.359985, 'Close': 884.359985, 'Adj Close': 884.359985, 'Volume': 225168600.0, 'CloseUSD': 1078.9191817}\n",
      "✅ Sent: {'Index': '399001.SZ', 'Date': '2012-07-26', 'Open': 9148.780273, 'High': 9218.120117, 'Low': 9069.969727, 'Close': 9081.900391, 'Adj Close': 9081.797852, 'Volume': 62500.0, 'CloseUSD': 1453.10406256}\n",
      "✅ Sent: {'Index': 'SSMI', 'Date': '2017-11-24', 'Open': 9324.019531, 'High': 9350.410156, 'Low': 9299.570313, 'Close': 9325.599609, 'Adj Close': 9325.599609, 'Volume': 34099400.0, 'CloseUSD': 10351.415565990004}\n",
      "✅ Sent: {'Index': 'NYA', 'Date': '2017-10-16', 'Open': 12365.99023, 'High': 12377.25, 'Low': 12343.17969, 'Close': 12359.51953, 'Adj Close': 12359.51953, 'Volume': 2916020000.0, 'CloseUSD': 12359.51953}\n",
      "✅ Sent: {'Index': 'IXIC', 'Date': '2001-07-18', 'Open': 2035.089966, 'High': 2056.060059, 'Low': 2003.949951, 'Close': 2016.170044, 'Adj Close': 2016.170044, 'Volume': 1738120000.0, 'CloseUSD': 2016.170044}\n",
      "✅ Sent: {'Index': 'GSPTSE', 'Date': '2019-02-22', 'Open': 16038.40039, 'High': 16071.0, 'Low': 15997.40039, 'Close': 16013.0, 'Adj Close': 16013.0, 'Volume': 22285880000.0, 'CloseUSD': 13290.79}\n",
      "✅ Sent: {'Index': 'SSMI', 'Date': '2002-11-08', 'Open': 4865.899902, 'High': 4928.399902, 'Low': 4835.600098, 'Close': 4845.399902, 'Adj Close': 4845.399902, 'Volume': 0.0, 'CloseUSD': 5378.393891220001}\n",
      "✅ Sent: {'Index': 'HSI', 'Date': '2002-02-27', 'Open': 10541.19043, 'High': 10757.11035, 'Low': 10524.76953, 'Close': 10648.70996, 'Adj Close': 10648.70996, 'Volume': 268262400.0, 'CloseUSD': 1384.3322948}\n",
      "✅ Sent: {'Index': 'N225', 'Date': '1978-04-12', 'Open': 5464.649902, 'High': 5464.649902, 'Low': 5464.649902, 'Close': 5464.649902, 'Adj Close': 5464.649902, 'Volume': 0.0, 'CloseUSD': 54.64649902}\n",
      "✅ Sent: {'Index': 'GDAXI', 'Date': '2018-05-24', 'Open': 12955.94043, 'High': 13006.44043, 'Low': 12801.82031, 'Close': 12855.08984, 'Adj Close': 12855.08984, 'Volume': 143763000.0, 'CloseUSD': 15683.2096048}\n",
      "✅ Sent: {'Index': 'GSPTSE', 'Date': '1984-04-19', 'Open': 2327.600098, 'High': 2328.899902, 'Low': 2323.899902, 'Close': 2327.0, 'Adj Close': 2321.09082, 'Volume': 0.0, 'CloseUSD': 1931.41}\n",
      "✅ Sent: {'Index': 'HSI', 'Date': '2001-08-07', 'Open': 12260.23047, 'High': 12260.23047, 'Low': 11924.95996, 'Close': 12007.19043, 'Adj Close': 12007.19043, 'Volume': 208445200.0, 'CloseUSD': 1560.9347559}\n",
      "✅ Sent: {'Index': 'GDAXI', 'Date': '2021-03-24', 'Open': 14543.58008, 'High': 14619.04004, 'Low': 14523.12012, 'Close': 14610.38965, 'Adj Close': 14610.38965, 'Volume': 65084000.0, 'CloseUSD': 17824.675373}\n",
      "✅ Sent: {'Index': 'TWII', 'Date': '2000-01-10', 'Open': 8941.929688, 'High': 9126.019531, 'Low': 8891.790039, 'Close': 9102.599609, 'Adj Close': 9102.56543, 'Volume': 0.0, 'CloseUSD': 364.10398436}\n",
      "✅ Sent: {'Index': 'HSI', 'Date': '2015-05-26', 'Open': 28462.32031, 'High': 28524.59961, 'Low': 28237.49023, 'Close': 28249.85938, 'Adj Close': 28249.85938, 'Volume': 2672054500.0, 'CloseUSD': 3672.4817194}\n",
      "✅ Sent: {'Index': 'NYA', 'Date': '2015-02-27', 'Open': 11078.54004, 'High': 11100.24023, 'Low': 11062.12012, 'Close': 11062.79004, 'Adj Close': 11062.79004, 'Volume': 3547380000.0, 'CloseUSD': 11062.79004}\n",
      "✅ Sent: {'Index': 'GDAXI', 'Date': '2020-01-31', 'Open': 13196.79981, 'High': 13208.46973, 'Low': 12973.7002, 'Close': 12981.96973, 'Adj Close': 12981.96973, 'Volume': 106903800.0, 'CloseUSD': 15838.0030706}\n",
      "✅ Sent: {'Index': 'TWII', 'Date': '2003-11-20', 'Open': 5872.609863, 'High': 5901.109863, 'Low': 5828.410156, 'Close': 5834.240234, 'Adj Close': 5834.218262, 'Volume': 3220800.0, 'CloseUSD': 233.36960936}\n",
      "✅ Sent: {'Index': 'SSMI', 'Date': '2020-09-08', 'Open': 10320.83984, 'High': 10342.45996, 'Low': 10150.44043, 'Close': 10250.44043, 'Adj Close': 10250.44043, 'Volume': 57638000.0, 'CloseUSD': 11377.988877300002}\n",
      "✅ Sent: {'Index': 'NYA', 'Date': '2007-07-02', 'Open': 9873.019531, 'High': 9997.839844, 'Low': 9873.019531, 'Close': 9997.429688, 'Adj Close': 9997.429688, 'Volume': 2648990000.0, 'CloseUSD': 9997.429688}\n",
      "✅ Sent: {'Index': 'IXIC', 'Date': '2002-08-07', 'Open': 1290.22998, 'High': 1298.119995, 'Low': 1243.48999, 'Close': 1280.900024, 'Adj Close': 1280.900024, 'Volume': 1542880000.0, 'CloseUSD': 1280.900024}\n",
      "✅ Sent: {'Index': 'GDAXI', 'Date': '2005-08-25', 'Open': 4886.350098, 'High': 4886.350098, 'Low': 4847.899902, 'Close': 4856.009766, 'Adj Close': 4856.009766, 'Volume': 78867100.0, 'CloseUSD': 5924.33191452}\n",
      "✅ Sent: {'Index': 'NYA', 'Date': '2006-02-03', 'Open': 8037.950195, 'High': 8037.950195, 'Low': 7968.779785, 'Close': 8001.399902, 'Adj Close': 8001.399902, 'Volume': 2282210000.0, 'CloseUSD': 8001.399902}\n",
      "✅ Sent: {'Index': 'J203.JO', 'Date': '2014-06-26', 'Open': 50350.60938, 'High': 50822.64063, 'Low': 50350.60938, 'Close': 50761.82031, 'Adj Close': 50761.82031, 'Volume': 0.0, 'CloseUSD': 3553.3274217000007}\n",
      "✅ Sent: {'Index': 'N225', 'Date': '1996-05-09', 'Open': 21742.16016, 'High': 21744.36914, 'Low': 21298.33008, 'Close': 21411.88086, 'Adj Close': 21411.88086, 'Volume': 0.0, 'CloseUSD': 214.1188086}\n",
      "✅ Sent: {'Index': 'GDAXI', 'Date': '1990-05-25', 'Open': 1826.98999, 'High': 1826.98999, 'Low': 1826.98999, 'Close': 1826.98999, 'Adj Close': 1826.98999, 'Volume': 0.0, 'CloseUSD': 2228.9277878}\n",
      "🛑 Producer stopped manually.\n"
     ]
    }
   ],
   "source": [
    "count = 0\n",
    "try:\n",
    "    while True:\n",
    "        dict_stock = df.sample(1).to_dict(orient=\"records\")[0]\n",
    "        producer.send('demo_testing', value=dict_stock)\n",
    "        print(f\"✅ Sent: {dict_stock}\")\n",
    "        logging.info(f\"Sent message {count}: {dict_stock}\")\n",
    "        count += 1\n",
    "        time.sleep(1)  # Simulate delay\n",
    "except KeyboardInterrupt:\n",
    "    print(\"🛑 Producer stopped manually.\")\n",
    "    logging.warning(\"Producer stopped manually.\")\n",
    "except Exception as e:\n",
    "    print(f\"❌ Error occurred: {e}\")\n",
    "    logging.error(f\"Producer error: {str(e)}\")\n",
    "finally:\n",
    "    producer.flush()\n",
    "    logging.info(\"Kafka producer shut down.\")"
   ]
  },
  {
   "cell_type": "code",
   "execution_count": 26,
   "id": "01941da2-c947-4bf9-976b-22bd2ca9307e",
   "metadata": {},
   "outputs": [],
   "source": [
    "producer.flush()"
   ]
  },
  {
   "cell_type": "code",
   "execution_count": 27,
   "id": "75bfa3ed-2f19-4e11-8e00-e8739b9ceda4",
   "metadata": {},
   "outputs": [
    {
     "name": "stdout",
     "output_type": "stream",
     "text": [
      "Current working directory: C:\\Users\\dnyan\n"
     ]
    }
   ],
   "source": [
    "import os\n",
    "print(\"Current working directory:\", os.getcwd())\n"
   ]
  },
  {
   "cell_type": "code",
   "execution_count": null,
   "id": "296db865-82cc-4fd4-9abb-63a34f4bfa8d",
   "metadata": {},
   "outputs": [],
   "source": []
  }
 ],
 "metadata": {
  "kernelspec": {
   "display_name": "Python 3 (ipykernel)",
   "language": "python",
   "name": "python3"
  },
  "language_info": {
   "codemirror_mode": {
    "name": "ipython",
    "version": 3
   },
   "file_extension": ".py",
   "mimetype": "text/x-python",
   "name": "python",
   "nbconvert_exporter": "python",
   "pygments_lexer": "ipython3",
   "version": "3.13.5"
  }
 },
 "nbformat": 4,
 "nbformat_minor": 5
}
