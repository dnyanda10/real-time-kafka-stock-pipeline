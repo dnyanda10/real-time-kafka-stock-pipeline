{
 "cells": [
  {
   "cell_type": "code",
   "execution_count": null,
   "id": "a66ccaca-2cf5-4d84-a8f8-8ac041baab5c",
   "metadata": {},
   "outputs": [],
   "source": [
    "from kafka import KafkaConsumer\n",
    "from json import loads\n",
    "import json\n",
    "import boto3\n",
    "import logging\n",
    "import os\n",
    "\n",
    "# ----------------------------------------\n",
    "# Step 1: Create logs folder if not exists\n",
    "# ----------------------------------------\n",
    "os.makedirs('logs', exist_ok=True)\n",
    "\n",
    "# ----------------------------------------\n",
    "# Step 2: Set up logging\n",
    "# ----------------------------------------\n",
    "logging.basicConfig(\n",
    "    filename='logs/consumer.log',\n",
    "    level=logging.INFO,\n",
    "    format='%(asctime)s - %(levelname)s - %(message)s',\n",
    "    filemode='a'  # Append to file; use 'w' if you want to overwrite each time\n",
    ")\n",
    "\n",
    "# ----------------------------------------\n",
    "# Step 3: Setup S3 client\n",
    "# ----------------------------------------\n",
    "s3 = boto3.client('s3')\n",
    "\n",
    "# ----------------------------------------\n",
    "# Step 4: Kafka consumer setup\n",
    "# ----------------------------------------\n",
    "consumer = KafkaConsumer(\n",
    "    'demo_testing',\n",
    "    bootstrap_servers=['localhost:9092'],\n",
    "    value_deserializer=lambda x: loads(x.decode('utf-8'))\n",
    ")\n",
    "\n",
    "# ----------------------------------------\n",
    "# Step 5: Consume messages and upload to S3\n",
    "# ----------------------------------------\n",
    "for count, message in enumerate(consumer):\n",
    "    file_name = f'stock_market_{count}.json'\n",
    "    json_data = json.dumps(message.value)\n",
    "\n",
    "    try:\n",
    "        s3.put_object(\n",
    "            Bucket='dnyan-kafka-stock-project',\n",
    "            Key=file_name,\n",
    "            Body=json_data,\n",
    "            ContentType='application/json'\n",
    "        )\n",
    "        print(f\"✅ Uploaded {file_name}\")\n",
    "        logging.info(f\"Uploaded {file_name} to S3 bucket.\")\n",
    "    except Exception as e:\n",
    "        print(f\"❌ Failed to upload {file_name}\")\n",
    "        print(e)\n",
    "        logging.error(f\"Failed to upload {file_name}: {str(e)}\")\n"
   ]
  },
  {
   "cell_type": "code",
   "execution_count": null,
   "id": "413e84bf-1079-4c66-8f82-a3e3b722dc31",
   "metadata": {},
   "outputs": [],
   "source": [
    "#import os\n",
    "print(os.getcwd())\n"
   ]
  },
  {
   "cell_type": "code",
   "execution_count": null,
   "id": "48ee4bee-f34e-4a19-a4e5-6ba3430cb8c3",
   "metadata": {},
   "outputs": [],
   "source": [
    "#import os\n",
    "print(\"Current directory:\", os.getcwd())\n"
   ]
  },
  {
   "cell_type": "code",
   "execution_count": null,
   "id": "19a5cb40-8f2a-4fbe-8ae6-e08c06e5197a",
   "metadata": {},
   "outputs": [],
   "source": [
    "import os\n",
    "os.getcwd()\n"
   ]
  },
  {
   "cell_type": "code",
   "execution_count": null,
   "id": "b8e4d427-adf2-40c2-b038-9224b0526eb9",
   "metadata": {},
   "outputs": [],
   "source": [
    "\n"
   ]
  }
 ],
 "metadata": {
  "kernelspec": {
   "display_name": "Python 3 (ipykernel)",
   "language": "python",
   "name": "python3"
  },
  "language_info": {
   "codemirror_mode": {
    "name": "ipython",
    "version": 3
   },
   "file_extension": ".py",
   "mimetype": "text/x-python",
   "name": "python",
   "nbconvert_exporter": "python",
   "pygments_lexer": "ipython3",
   "version": "3.13.5"
  }
 },
 "nbformat": 4,
 "nbformat_minor": 5
}
